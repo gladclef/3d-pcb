{
 "cells": [
  {
   "cell_type": "code",
   "execution_count": 4,
   "id": "675ee7b8",
   "metadata": {},
   "outputs": [
    {
     "name": "stdout",
     "output_type": "stream",
     "text": [
      "The autoreload extension is already loaded. To reload it, use:\n",
      "  %reload_ext autoreload\n"
     ]
    }
   ],
   "source": [
    "%load_ext autoreload\n",
    "%autoreload 2"
   ]
  },
  {
   "cell_type": "code",
   "execution_count": 5,
   "id": "95f47f73",
   "metadata": {},
   "outputs": [],
   "source": [
    "import vtk\n",
    "import numpy as np\n",
    "from vtk.util import numpy_support\n",
    "import pyvista\n",
    "\n",
    "import PipeShape\n",
    "from SingleTrace import SingleTrace\n",
    "from units import *\n",
    "import vtk_tools as vt"
   ]
  },
  {
   "cell_type": "code",
   "execution_count": 7,
   "id": "3e4bf0b7",
   "metadata": {},
   "outputs": [
    {
     "data": {
      "application/vnd.jupyter.widget-view+json": {
       "model_id": "47867e83e7f64f5cb8b8f9d929523b1d",
       "version_major": 2,
       "version_minor": 0
      },
      "text/plain": [
       "Widget(value='<iframe src=\"http://localhost:59054/index.html?ui=P_0x1dbf1bbe7b0_0&reconnect=auto\" class=\"pyvis…"
      ]
     },
     "metadata": {},
     "output_type": "display_data"
    }
   ],
   "source": [
    "pipe_shape = PipeShape.PipeBasicBox(awg2mm(26))\n",
    "vt.save_to_vtk(pipe_shape.to_vtk(), \"pipe_shape.vtk\")\n",
    "\n",
    "pipe_shape_mesh = pyvista.read(\"pipe_shape.vtk\")\n",
    "pyvista.global_theme.allow_empty_mesh = True\n",
    "pipe_shape_mesh.plot(show_edges=True, opacity=0.9, show_vertices=True)\n",
    "# pipe_shape_mesh.plot(style='wireframe')"
   ]
  },
  {
   "cell_type": "code",
   "execution_count": 8,
   "id": "60efbdc0",
   "metadata": {},
   "outputs": [
    {
     "name": "stdout",
     "output_type": "stream",
     "text": [
      "vtk_test_trace.GetNumberOfPoints()=26\n"
     ]
    },
    {
     "data": {
      "application/vnd.jupyter.widget-view+json": {
       "model_id": "6ffbfb22940247718b185ff28d226b96",
       "version_major": 2,
       "version_minor": 0
      },
      "text/plain": [
       "Widget(value='<iframe src=\"http://localhost:59054/index.html?ui=P_0x1dbf505a490_1&reconnect=auto\" class=\"pyvis…"
      ]
     },
     "metadata": {},
     "output_type": "display_data"
    }
   ],
   "source": [
    "trace_points = [\n",
    "    (0, 0),\n",
    "    (1, 0),\n",
    "    (2, 1),\n",
    "]\n",
    "trace_edges = [\n",
    "    (0, 1),\n",
    "    (1, 2)\n",
    "]\n",
    "\n",
    "test_trace = SingleTrace(trace_points, trace_edges, PipeShape.PipeBasicBox(awg2mm(26)))\n",
    "# test_trace = Trace(trace_points, trace_edges, PipeShape.PipeDebug(1))\n",
    "vtk_test_trace = test_trace.to_vtk()\n",
    "print(f\"{vtk_test_trace.GetNumberOfPoints()=}\")\n",
    "vt.save_to_vtk(vtk_test_trace, \"test_trace.vtk\")\n",
    "\n",
    "test_trace_mesh = pyvista.PolyData(vtk_test_trace)\n",
    "pyvista.global_theme.allow_empty_mesh = True\n",
    "test_trace_mesh.plot(show_edges=True, opacity=1, show_vertices=True)\n",
    "# pyvista.PolyDataFilters.plot_normals(test_trace_mesh, mag=0.5, flip=False, faces=False, show_edges=True, opacity=0.95, show_vertices=True)"
   ]
  }
 ],
 "metadata": {
  "kernelspec": {
   "display_name": "wiregen",
   "language": "python",
   "name": "python3"
  },
  "language_info": {
   "codemirror_mode": {
    "name": "ipython",
    "version": 3
   },
   "file_extension": ".py",
   "mimetype": "text/x-python",
   "name": "python",
   "nbconvert_exporter": "python",
   "pygments_lexer": "ipython3",
   "version": "3.13.2"
  }
 },
 "nbformat": 4,
 "nbformat_minor": 5
}
