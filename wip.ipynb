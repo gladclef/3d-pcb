{
 "cells": [
  {
   "cell_type": "code",
   "execution_count": null,
   "id": "675ee7b8",
   "metadata": {},
   "outputs": [],
   "source": [
    "%load_ext autoreload\n",
    "%autoreload 2"
   ]
  },
  {
   "cell_type": "code",
   "execution_count": null,
   "id": "95f47f73",
   "metadata": {},
   "outputs": [],
   "source": [
    "import vtk\n",
    "import numpy as np\n",
    "from vtk.util import numpy_support\n",
    "import pyvista\n",
    "\n",
    "import PipeShape\n",
    "from Trace import Trace\n",
    "from units import *\n",
    "import vtk_tools as vt"
   ]
  },
  {
   "cell_type": "code",
   "execution_count": null,
   "id": "3e4bf0b7",
   "metadata": {},
   "outputs": [],
   "source": [
    "pipe_shape = PipeShape.PipeBasicBox(awg2mm(26))\n",
    "vt.save_to_vtk(pipe_shape.to_vtk(add_edges=False, fill_with_triangles=True), \"pipe_shape.vtk\")\n",
    "\n",
    "pipe_shape_mesh = pyvista.read(\"pipe_shape.vtk\")\n",
    "pyvista.global_theme.allow_empty_mesh = True\n",
    "pipe_shape_mesh.plot(show_edges=True, opacity=0.9, show_vertices=True)\n",
    "# pipe_shape_mesh.plot(style='wireframe')"
   ]
  },
  {
   "cell_type": "code",
   "execution_count": null,
   "id": "60efbdc0",
   "metadata": {},
   "outputs": [],
   "source": [
    "trace_points = [\n",
    "    (0, 0),\n",
    "    (1, 0),\n",
    "    (0.1, .5),\n",
    "    (1.1, .5)\n",
    "]\n",
    "trace_edges = [\n",
    "    (0, 1),\n",
    "    (2, 3)\n",
    "]\n",
    "\n",
    "test_trace = Trace(trace_points, trace_edges, PipeShape.PipeBasicBox(awg2mm(26)))\n",
    "# test_trace = Trace(trace_points, trace_edges, PipeShape.PipeDebug(1))\n",
    "vtk_test_trace = test_trace.to_vtk()\n",
    "print(f\"{vtk_test_trace.GetNumberOfPoints()=}\")\n",
    "vt.save_to_vtk(vtk_test_trace, \"test_trace.vtk\")\n",
    "\n",
    "test_trace_mesh = pyvista.PolyData(vtk_test_trace)\n",
    "pyvista.global_theme.allow_empty_mesh = True\n",
    "test_trace_mesh.plot(show_edges=True, opacity=1, show_vertices=True)\n",
    "# pyvista.PolyDataFilters.plot_normals(test_trace_mesh, mag=0.5, flip=False, faces=False, show_edges=True, opacity=0.95, show_vertices=True)"
   ]
  },
  {
   "cell_type": "code",
   "execution_count": null,
   "id": "3e9da4d5",
   "metadata": {},
   "outputs": [],
   "source": [
    "str(vtk.vtkVersion().GetVTKMajorVersion()) + \".\" + str(vtk.vtkVersion().GetVTKMinorVersion()) + \".\" + str(vtk.vtkVersion().GetVTKBuildVersion())"
   ]
  }
 ],
 "metadata": {
  "kernelspec": {
   "display_name": "wiregen",
   "language": "python",
   "name": "python3"
  },
  "language_info": {
   "codemirror_mode": {
    "name": "ipython",
    "version": 3
   },
   "file_extension": ".py",
   "mimetype": "text/x-python",
   "name": "python",
   "nbconvert_exporter": "python",
   "pygments_lexer": "ipython3",
   "version": "3.13.2"
  }
 },
 "nbformat": 4,
 "nbformat_minor": 5
}
